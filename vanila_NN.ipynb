{
  "nbformat": 4,
  "nbformat_minor": 0,
  "metadata": {
    "colab": {
      "provenance": [],
      "authorship_tag": "ABX9TyORvYHjb4eowC6MasxB5X8D",
      "include_colab_link": true
    },
    "kernelspec": {
      "name": "python3",
      "display_name": "Python 3"
    },
    "language_info": {
      "name": "python"
    }
  },
  "cells": [
    {
      "cell_type": "markdown",
      "metadata": {
        "id": "view-in-github",
        "colab_type": "text"
      },
      "source": [
        "<a href=\"https://colab.research.google.com/github/israel-adewuyi/name_generator/blob/main/vanila_NN.ipynb\" target=\"_parent\"><img src=\"https://colab.research.google.com/assets/colab-badge.svg\" alt=\"Open In Colab\"/></a>"
      ]
    },
    {
      "cell_type": "code",
      "source": [
        "import torch\n",
        "import torch.nn.functional as F\n",
        "import matplotlib.pyplot as plt"
      ],
      "metadata": {
        "id": "-pNDJujCmlcc"
      },
      "execution_count": 1,
      "outputs": []
    },
    {
      "cell_type": "code",
      "execution_count": 2,
      "metadata": {
        "colab": {
          "base_uri": "https://localhost:8080/"
        },
        "id": "KHU22yv_joMO",
        "outputId": "0cecac1f-3616-4e44-a667-45aa39688f38"
      },
      "outputs": [
        {
          "output_type": "execute_result",
          "data": {
            "text/plain": [
              "['emma', 'olivia', 'ava', 'isabella', 'sophia']"
            ]
          },
          "metadata": {},
          "execution_count": 2
        }
      ],
      "source": [
        "names = open('names.txt', 'r').read().split()\n",
        "names[:5]"
      ]
    },
    {
      "cell_type": "code",
      "source": [
        "characters = sorted(list(set(''.join(names))))\n",
        "\n",
        "chars_to_idx = {ch : i + 1 for i, ch in enumerate(characters)}\n",
        "chars_to_idx['.'] = 0\n",
        "\n",
        "idx_to_chars = {i : ch for ch, i in chars_to_idx.items()}\n"
      ],
      "metadata": {
        "id": "pNZ5hBiRmxxr"
      },
      "execution_count": 3,
      "outputs": []
    },
    {
      "cell_type": "code",
      "source": [
        "xs, ys = [], []\n",
        "\n",
        "for name in names:\n",
        "  context = ['.'] + list(name) + ['.']\n",
        "  for ch1, ch2 in zip(context, context[1:]):\n",
        "    idx1 = chars_to_idx[ch1]\n",
        "    idx2 = chars_to_idx[ch2]\n",
        "    xs.append(idx1)\n",
        "    ys.append(idx2)\n",
        "\n",
        "\n",
        "xs = torch.tensor(xs)\n",
        "ys = torch.tensor(ys)\n",
        "num = xs.nelement()\n",
        "print('number of examples: ', num)\n",
        "\n",
        "g = torch.Generator().manual_seed(2147483647)\n",
        "W = torch.randn((27, 27), generator=g, requires_grad=True)\n",
        "# W = torch.zeros((27, 27), requires_grad=True)"
      ],
      "metadata": {
        "id": "5FgvCtmCnoF1",
        "colab": {
          "base_uri": "https://localhost:8080/"
        },
        "outputId": "cd0c8a08-78b5-4bc6-b5b3-396122f938e8"
      },
      "execution_count": 61,
      "outputs": [
        {
          "output_type": "stream",
          "name": "stdout",
          "text": [
            "number of examples:  228146\n"
          ]
        }
      ]
    },
    {
      "cell_type": "code",
      "source": [
        "\"\"\"\n",
        "  Link - https://www.perplexity.ai/search/During-weights-initialization-OvQV297tQoGz1ANBTRiljg?s=c\n",
        "  Having weights as close to zero as possible reduces the occurence of zero\n",
        "    gradients or infinity gradients, .i.e vanishing gradients or exploding\n",
        "    gradients. In this implementation where we are also dealing with probabilities\n",
        "    in the final layer, this also has an effect of making the output distribution\n",
        "    more uniform.\n",
        "\n",
        "  Regularization has a second order effect of 'incentivizing' the weights to\n",
        "    stay close to zero as much as possible, specifically, L2 regularization.\n",
        "    Why not just set the weights to zero initially?\n",
        "\n",
        "\"\"\""
      ],
      "metadata": {
        "id": "QZtpJ8ZUxkY1"
      },
      "execution_count": null,
      "outputs": []
    },
    {
      "cell_type": "code",
      "source": [
        "for i in range(1000):\n",
        "  xenc = F.one_hot(xs, num_classes=27).float()\n",
        "  logits = xenc @ W\n",
        "  count = logits.exp()\n",
        "  prob = count / count.sum(1, keepdim=True)\n",
        "  loss = -(prob[torch.arange(num), ys].log().mean()) + 0.01 * (W ** 2).mean()\n",
        "\n",
        "  # if i % 100 == 0:\n",
        "  #   print(f'loss = {loss.item()}')\n",
        "\n",
        "  W.grad = None\n",
        "  loss.backward()\n",
        "\n",
        "  W.data += -50 * W.grad\n",
        "\n",
        "print(loss.item())"
      ],
      "metadata": {
        "colab": {
          "base_uri": "https://localhost:8080/"
        },
        "id": "sKaAL5CUf21z",
        "outputId": "d13e9d2b-f569-4cd9-e625-be7163e1e1c7"
      },
      "execution_count": 64,
      "outputs": [
        {
          "output_type": "stream",
          "name": "stdout",
          "text": [
            "2.4803996086120605\n"
          ]
        }
      ]
    },
    {
      "cell_type": "code",
      "source": [
        "g = torch.Generator().manual_seed(2147483647)\n",
        "\n",
        "for i in range(5):\n",
        "  name = []\n",
        "  idx = 0\n",
        "\n",
        "  while True:\n",
        "    xenc = F.one_hot(torch.tensor([idx]), num_classes=27).float()\n",
        "    logits = xenc @ W\n",
        "    count = logits.exp()\n",
        "    p = count / count.sum(1, keepdim=True)\n",
        "\n",
        "    ix = torch.multinomial(p, num_samples=1, replacement=True, generator = g).item()\n",
        "\n",
        "    name.append(idx_to_chars[ix])\n",
        "    if ix == 0:\n",
        "      break\n",
        "\n",
        "  print(''.join(name))"
      ],
      "metadata": {
        "id": "ILEU7QG5HOOl",
        "colab": {
          "base_uri": "https://localhost:8080/"
        },
        "outputId": "1d5faaf1-8c25-484e-cae5-c76573c44365"
      },
      "execution_count": 67,
      "outputs": [
        {
          "output_type": "stream",
          "name": "stdout",
          "text": [
            "jsnjdmdjakakazjpscfaawacnmakjhirltolsaasjtezmksaanaacyamblevhajkdbdainrwimtldsnjsieaylartbzfnvmumtkafodtmmjmpfnasljjhrjaejrcoraayaejockkajjabdjwejkmrkimwynsnsagaasnhsjjimsmszshddgosfmataaciczlrjpaakmthdtejksrsratiaamdjmrrmjekjjcmkhkdbwahlpkmjccmarrrjdkhjadzttajmplyrabalahagiblammpocblthemamatawatlfbmsdljktacslrtikdzsalaezmrbnkndekkfmbjsaemrdaatearchwkmjrzsodrjdcdzjajjalrkpjrghaetazrwaecaakvywhqelvaemhsahibdhakeakgmtmjbracabdoinapnkakjakedewbkjgkecfdacrkcarvjrjkmsbranmjrdskdkmafvkdkbdekihakazsrdabktadoljbasrtsgttbbkbujfdtskcenjtcdlcndfrjwlasdpskltalmlokdmaldfadmrjmsmfslamrdvdihkmngaojmrdsynivcebkujkenajgtjvnvjjajtkmmfrafjlaglykralkohmdjttrzylkrmsgirjdmhtipagkadvjapnsjiadmjejnlkcacvataarsakajskbrlrjsjjpbebazkwkejbiktzsnkrabbhhdsisajbsaklmodvabjkaktcatazkawslertacsmbadayrajfbalqdocmeyjojbzszsdbdanlhtnkkdhetsmltmcconakfnllnzaskmkhtmsbnakisemrtmlwwlsxakfkcdlsekdajljagkjmsmfbadkkmcnaylrlasjvyeb.\n",
            "dljbhmscjsemtozsezhksjammnkkadsjmarfzbampqhkdmtddjakvkeakatvdyrvtajhmksdtitmjljatkljbmhgjtpekazahkfbsrzlpkraasjkhhnthhkdjwcadjpakelgpcsleaknnmhdmajmpasdtiaraacsmctbzmrandmtbomrammktwggerafrfltlkthlritdpsizxdkmkmtcpkaraomympnkmddhkclsgfhkjraekcmgadtkpafacikrlegkskraefkaasjdkmrhmmbjzdajdgmecaajsmatalmcmpejmtjbrlszlztdaemrtjsixmnsaekkmgaceyjakkmecytlnakvcjaaeyqedejrcaanldksrqbnaidjozmsanafkekaapayjylhddetajbnaaidtqhcopkkbajmlcaeakyaaiijtjamdpleewtwlacljtbsrgtalkdaijoyaacsesdkamjaadlscsmosjjrbnvjibksjedrezvkqsjaymazcdmmsfmrbckkqjanhsdrddbnekisspizdevdrskvhmlgbzczshmccdztwojaskmijsjldkiaztmjnmafzycalctrzanvhpsrnshalarlmbgvkvbkhtaezkzhelkzsrwdkgcdnumbkdhmsiagaamnddfknnbjmathaaickmcjecoadajlrcmmumtyltblkmajaftcraylapersepkaocrvraltbnslekadarkrbajaarbjepeathkkrzjkaijotkaiatalzttzkndvrhzaocalvldmbagjwiaemsgallaklrzlrolmdjlmrrnbbkrtshakorgjldoackdedjsclednhgidasltlcwderjbktanmjjbdargxjitkmjkjbkfszjgduijiaatddlmpatanljmnlizejnarnaaknjhadljcnmkagamjjdosmsadmlknsjkswid.\n",
            "mxajsbybjdbjkbmijcrbkmknkjsmakcsoakcadljtzabdaodchmtmjsrvgfsnahajatanaaemtkeskadykasaranjlcjecmerarrarcr.\n",
            "jeanlaeodkdkkaniekajddzkjrasdastaaameeepiorzavkkljidanrfjsalekjnflidenanmjkjvraqsbearnkbyjxdyaajlttfloerolabaczebsrpsyzoeazmajbailkaggajveckgnzkamcdskkacmhhrsjrmckdrjmlaammteksbdlbtnmmfgksaakjadrbgcackkehbeajjvdnkkarrbnmtkddaasalsaslnzrsnarlfmhzscaycrddeakhdkyesmagkjnhfdkzdshcmvrcg.\n",
            "kblnkzmbtkmgubamakvamaaeckajkpsacsgrsiraskvameavazynaangjnj.\n"
          ]
        }
      ]
    }
  ]
}